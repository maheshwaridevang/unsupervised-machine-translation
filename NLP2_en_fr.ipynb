{
 "cells": [
  {
   "cell_type": "code",
   "execution_count": 10,
   "metadata": {},
   "outputs": [
    {
     "name": "stdout",
     "output_type": "stream",
     "text": [
      "Requirement already satisfied: sacremoses in /system/conda/miniconda3/envs/cloudspace/lib/python3.10/site-packages (0.1.1)\n",
      "Requirement already satisfied: regex in /system/conda/miniconda3/envs/cloudspace/lib/python3.10/site-packages (from sacremoses) (2023.10.3)\n",
      "Requirement already satisfied: click in /system/conda/miniconda3/envs/cloudspace/lib/python3.10/site-packages (from sacremoses) (8.1.7)\n",
      "Requirement already satisfied: joblib in /system/conda/miniconda3/envs/cloudspace/lib/python3.10/site-packages (from sacremoses) (1.4.2)\n",
      "Requirement already satisfied: tqdm in /system/conda/miniconda3/envs/cloudspace/lib/python3.10/site-packages (from sacremoses) (4.66.1)\n",
      "Requirement already satisfied: transformers in /system/conda/miniconda3/envs/cloudspace/lib/python3.10/site-packages (4.46.2)\n",
      "Requirement already satisfied: filelock in /system/conda/miniconda3/envs/cloudspace/lib/python3.10/site-packages (from transformers) (3.16.1)\n",
      "Requirement already satisfied: huggingface-hub<1.0,>=0.23.2 in /system/conda/miniconda3/envs/cloudspace/lib/python3.10/site-packages (from transformers) (0.26.2)\n",
      "Requirement already satisfied: numpy>=1.17 in /system/conda/miniconda3/envs/cloudspace/lib/python3.10/site-packages (from transformers) (1.26.4)\n",
      "Requirement already satisfied: packaging>=20.0 in /system/conda/miniconda3/envs/cloudspace/lib/python3.10/site-packages (from transformers) (24.1)\n",
      "Requirement already satisfied: pyyaml>=5.1 in /system/conda/miniconda3/envs/cloudspace/lib/python3.10/site-packages (from transformers) (6.0.2)\n",
      "Requirement already satisfied: regex!=2019.12.17 in /system/conda/miniconda3/envs/cloudspace/lib/python3.10/site-packages (from transformers) (2023.10.3)\n",
      "Requirement already satisfied: requests in /system/conda/miniconda3/envs/cloudspace/lib/python3.10/site-packages (from transformers) (2.32.3)\n",
      "Requirement already satisfied: safetensors>=0.4.1 in /system/conda/miniconda3/envs/cloudspace/lib/python3.10/site-packages (from transformers) (0.4.5)\n",
      "Requirement already satisfied: tokenizers<0.21,>=0.20 in /system/conda/miniconda3/envs/cloudspace/lib/python3.10/site-packages (from transformers) (0.20.3)\n",
      "Requirement already satisfied: tqdm>=4.27 in /system/conda/miniconda3/envs/cloudspace/lib/python3.10/site-packages (from transformers) (4.66.1)\n",
      "Requirement already satisfied: fsspec>=2023.5.0 in /system/conda/miniconda3/envs/cloudspace/lib/python3.10/site-packages (from huggingface-hub<1.0,>=0.23.2->transformers) (2024.10.0)\n",
      "Requirement already satisfied: typing-extensions>=3.7.4.3 in /system/conda/miniconda3/envs/cloudspace/lib/python3.10/site-packages (from huggingface-hub<1.0,>=0.23.2->transformers) (4.12.2)\n",
      "Requirement already satisfied: charset-normalizer<4,>=2 in /system/conda/miniconda3/envs/cloudspace/lib/python3.10/site-packages (from requests->transformers) (3.4.0)\n",
      "Requirement already satisfied: idna<4,>=2.5 in /system/conda/miniconda3/envs/cloudspace/lib/python3.10/site-packages (from requests->transformers) (3.10)\n",
      "Requirement already satisfied: urllib3<3,>=1.21.1 in /system/conda/miniconda3/envs/cloudspace/lib/python3.10/site-packages (from requests->transformers) (2.2.3)\n",
      "Requirement already satisfied: certifi>=2017.4.17 in /system/conda/miniconda3/envs/cloudspace/lib/python3.10/site-packages (from requests->transformers) (2024.8.30)\n",
      "Requirement already satisfied: sentencepiece in /system/conda/miniconda3/envs/cloudspace/lib/python3.10/site-packages (0.2.0)\n"
     ]
    }
   ],
   "source": [
    "!pip install sacremoses\n",
    "!pip install transformers\n",
    "!pip install sentencepiece"
   ]
  },
  {
   "cell_type": "code",
   "execution_count": 11,
   "metadata": {},
   "outputs": [
    {
     "name": "stdout",
     "output_type": "stream",
     "text": [
      "SentencePiece installed successfully!\n"
     ]
    }
   ],
   "source": [
    "import torch\n",
    "import sentencepiece\n",
    "print(\"SentencePiece installed successfully!\")\n",
    "\n",
    "from transformers import MarianMTModel, MarianTokenizer\n",
    "from torch.utils.data import DataLoader, Dataset"
   ]
  },
  {
   "cell_type": "code",
   "execution_count": 12,
   "metadata": {},
   "outputs": [
    {
     "name": "stdout",
     "output_type": "stream",
     "text": [
      "Loaded 100000 English sentences.\n",
      "Loaded 100000 French sentences.\n"
     ]
    }
   ],
   "source": [
    "from transformers import AutoTokenizer, AutoModelForSeq2SeqLM\n",
    "from torch.utils.data import Dataset, DataLoader\n",
    "\n",
    "# File paths for preprocessed corporo\n",
    "en_file = \"en_to_fr.txt\"\n",
    "fr_file = \"fr_to_en.txt\"\n",
    "\n",
    "# Function to load and limit dataset\n",
    "def load_corpora(file_path, limit=100000):\n",
    "    with open(file_path, \"r\", encoding=\"utf-8\") as f:\n",
    "        sentences = f.readlines()\n",
    "    return sentences[:limit]  # Limit to 20,000 sentences\n",
    "\n",
    "# Load the corporo\n",
    "en_sentences = load_corpora(en_file)\n",
    "fr_sentences = load_corpora(fr_file)\n",
    "\n",
    "print(f\"Loaded {len(en_sentences)} English sentences.\")\n",
    "print(f\"Loaded {len(fr_sentences)} French sentences.\")\n"
   ]
  },
  {
   "cell_type": "code",
   "execution_count": 13,
   "metadata": {},
   "outputs": [],
   "source": [
    "# Tokenizer and model\n",
    "en_tokenizer = MarianTokenizer.from_pretrained(\"Helsinki-NLP/opus-mt-en-fr\")\n",
    "fr_tokenizer = MarianTokenizer.from_pretrained(\"Helsinki-NLP/opus-mt-fr-en\")\n"
   ]
  },
  {
   "cell_type": "code",
   "execution_count": 14,
   "metadata": {},
   "outputs": [],
   "source": [
    "class TranslationDataset(Dataset):\n",
    "    def __init__(self, sentences, tokenizer, max_length=128):\n",
    "        self.sentences = sentences\n",
    "        self.tokenizer = tokenizer\n",
    "        self.max_length = max_length\n",
    "\n",
    "    def __len__(self):\n",
    "        return len(self.sentences)\n",
    "\n",
    "    def __getitem__(self, idx):\n",
    "        sentence = self.sentences[idx].strip()\n",
    "        tokens = self.tokenizer(\n",
    "            sentence,\n",
    "            max_length=self.max_length,\n",
    "            padding=\"max_length\",\n",
    "            truncation=True,\n",
    "            return_tensors=\"pt\"\n",
    "        )\n",
    "        return {\n",
    "            \"input_ids\": tokens[\"input_ids\"].squeeze(),\n",
    "            \"attention_mask\": tokens[\"attention_mask\"].squeeze(),\n",
    "        }\n",
    "\n",
    "\n",
    "# Create datasets\n",
    "en_dataset = TranslationDataset(en_sentences, en_tokenizer)\n",
    "fr_dataset = TranslationDataset(fr_sentences, fr_tokenizer)\n",
    "\n",
    "# DataLoaders for batching\n",
    "batch_size = 32\n",
    "en_loader = DataLoader(en_dataset, batch_size=batch_size, shuffle=True)\n",
    "fr_loader = DataLoader(fr_dataset, batch_size=batch_size, shuffle=True)\n"
   ]
  },
  {
   "cell_type": "code",
   "execution_count": 15,
   "metadata": {},
   "outputs": [
    {
     "name": "stderr",
     "output_type": "stream",
     "text": [
      "/home/zeus/miniconda3/envs/cloudspace/lib/python3.10/site-packages/transformers/optimization.py:591: FutureWarning: This implementation of AdamW is deprecated and will be removed in a future version. Use the PyTorch implementation torch.optim.AdamW instead, or set `no_deprecation_warning=True` to disable this warning\n",
      "  warnings.warn(\n",
      "We strongly recommend passing in an `attention_mask` since your input_ids may be padded. See https://huggingface.co/docs/transformers/troubleshooting#incorrect-output-when-padding-tokens-arent-masked.\n"
     ]
    },
    {
     "name": "stdout",
     "output_type": "stream",
     "text": [
      "Epoch 1, Loss: 0.07448127898396924\n",
      "Epoch 2, Loss: 0.012743310326612554\n",
      "Epoch 3, Loss: 0.008812377262441442\n"
     ]
    }
   ],
   "source": [
    "from transformers import AdamW, MarianMTModel, MarianTokenizer\n",
    "import torch\n",
    "\n",
    "\n",
    "en_fr_model = MarianMTModel.from_pretrained(\"Helsinki-NLP/opus-mt-en-fr\").to(\"cuda\")\n",
    "fr_en_model = MarianMTModel.from_pretrained(\"Helsinki-NLP/opus-mt-fr-en\").to(\"cuda\")\n",
    "\n",
    "# Optimizer\n",
    "optimizer = AdamW(list(en_fr_model.parameters()) + list(fr_en_model.parameters()), lr=5e-5)\n",
    "\n",
    "# Training loop for back-translation\n",
    "epochs = 3\n",
    "for epoch in range(epochs):\n",
    "    en_fr_model.train()\n",
    "    fr_en_model.train()\n",
    "    total_loss = 0\n",
    "\n",
    "    for batch in en_loader:  # assuming `en_loader` is your English to Hindi data\n",
    "        # Forward translation (en -> hi)\n",
    "        input_ids = batch[\"input_ids\"].to(\"cuda\")\n",
    "        attention_mask = batch[\"attention_mask\"].to(\"cuda\")\n",
    "\n",
    "        # Forward pass: Translate English -> Hindi\n",
    "        outputs = en_fr_model(input_ids=input_ids, attention_mask=attention_mask, labels=input_ids)\n",
    "        loss = outputs.loss\n",
    "\n",
    "        # Backward pass\n",
    "        loss.backward()\n",
    "\n",
    "        # Backtranslation: Translate Hindi -> English\n",
    "        translated = en_tokenizer.batch_decode(outputs.logits.argmax(dim=-1), skip_special_tokens=True)\n",
    "        translated_ids = fr_tokenizer(translated, return_tensors=\"pt\", padding=True, truncation=True).input_ids.to(\"cuda\")\n",
    "\n",
    "        # Reverse translation (hi -> en)\n",
    "        reverse_outputs = fr_en_model(input_ids=translated_ids, labels=input_ids)\n",
    "        reverse_loss = reverse_outputs.loss\n",
    "\n",
    "        reverse_loss.backward()\n",
    "\n",
    "        # Step optimizer after both forward and reverse loss\n",
    "        optimizer.step()\n",
    "        optimizer.zero_grad()\n",
    "\n",
    "        total_loss += loss.item() + reverse_loss.item()\n",
    "\n",
    "    print(f\"Epoch {epoch + 1}, Loss: {total_loss / len(en_loader)}\")\n"
   ]
  },
  {
   "cell_type": "code",
   "execution_count": 77,
   "metadata": {},
   "outputs": [
    {
     "name": "stdout",
     "output_type": "stream",
     "text": [
      "French model saved to 'en_to_fr_model_checkpoint'.\n",
      "Eng model saved\n"
     ]
    }
   ],
   "source": [
    "en_model.save_pretrained(\"en_to_fr_model_checkpoint\")\n",
    "fr_tokenizer.save_pretrained(\"en_to_fr_model_checkpoint\")\n",
    "print(\"French model saved to 'en_to_fr_model_checkpoint'.\")\n",
    "\n",
    "fr_en_model.save_pretrained(\"fr_to_en_model_ckpt\")\n",
    "en_tokenizer.save_pretrained(\"fr_to_en_model_ckpt\")\n",
    "print(\"Eng model saved\")"
   ]
  },
  {
   "cell_type": "code",
   "execution_count": 83,
   "metadata": {},
   "outputs": [
    {
     "name": "stdout",
     "output_type": "stream",
     "text": [
      "Translated Sentence: L'Inde est un beau pays\n"
     ]
    }
   ],
   "source": [
    "from transformers import MarianMTModel, MarianTokenizer\n",
    "\n",
    "# Load the saved model and tokenizer\n",
    "model_checkpoint_path = \"en_to_fr_model_checkpoint\"\n",
    "saved_model = MarianMTModel.from_pretrained(model_checkpoint_path).to(\"cuda\")\n",
    "saved_tokenizer = MarianTokenizer.from_pretrained(\"fr_to_en_model_ckpt\")\n",
    "\n",
    "# Test the model on a sentence\n",
    "def translate_sentence(sentence, model, tokenizer, max_length=128):\n",
    "    model.eval()\n",
    "    inputs = tokenizer(\n",
    "        sentence,\n",
    "        return_tensors=\"pt\",\n",
    "        max_length=max_length,\n",
    "        padding=\"max_length\",\n",
    "        truncation=True\n",
    "    )\n",
    "    input_ids = inputs[\"input_ids\"].to(\"cuda\")\n",
    "    attention_mask = inputs[\"attention_mask\"].to(\"cuda\")\n",
    "\n",
    "    with torch.no_grad():\n",
    "        outputs = model.generate(input_ids=input_ids, attention_mask=attention_mask, max_length=max_length)\n",
    "    \n",
    "    translated_sentence = tokenizer.decode(outputs[0], skip_special_tokens=True)\n",
    "    return translated_sentence\n",
    "\n",
    "# Example sentence for testing\n",
    "test_sentence = \" India is a beautiful country\"\n",
    "translated_sentence = translate_sentence(test_sentence, saved_model, saved_tokenizer)\n",
    "print(f\"Translated Sentence: {translated_sentence}\")\n"
   ]
  }
 ],
 "metadata": {
  "language_info": {
   "name": "python"
  }
 },
 "nbformat": 4,
 "nbformat_minor": 2
}
